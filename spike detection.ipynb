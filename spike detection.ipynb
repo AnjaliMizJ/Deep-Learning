{
 "cells": [
  {
   "cell_type": "code",
   "execution_count": 22,
   "metadata": {},
   "outputs": [],
   "source": [
    "import numpy as np\n",
    "import pandas as pd\n",
    "from sklearn.model_selection import train_test_split\n",
    "classes = pd.read_csv('C:/Users/etudiant/Downloads/spike_classes.csv')\n",
    "time = pd.read_csv('C:/Users/etudiant/Downloads/spike_times.csv')"
   ]
  },
  {
   "cell_type": "code",
   "execution_count": 2,
   "metadata": {},
   "outputs": [
    {
     "data": {
      "text/html": [
       "<div>\n",
       "<style scoped>\n",
       "    .dataframe tbody tr th:only-of-type {\n",
       "        vertical-align: middle;\n",
       "    }\n",
       "\n",
       "    .dataframe tbody tr th {\n",
       "        vertical-align: top;\n",
       "    }\n",
       "\n",
       "    .dataframe thead th {\n",
       "        text-align: right;\n",
       "    }\n",
       "</style>\n",
       "<table border=\"1\" class=\"dataframe\">\n",
       "  <thead>\n",
       "    <tr style=\"text-align: right;\">\n",
       "      <th></th>\n",
       "      <th>class</th>\n",
       "    </tr>\n",
       "  </thead>\n",
       "  <tbody>\n",
       "    <tr>\n",
       "      <th>0</th>\n",
       "      <td>4</td>\n",
       "    </tr>\n",
       "    <tr>\n",
       "      <th>1</th>\n",
       "      <td>4</td>\n",
       "    </tr>\n",
       "    <tr>\n",
       "      <th>2</th>\n",
       "      <td>4</td>\n",
       "    </tr>\n",
       "    <tr>\n",
       "      <th>3</th>\n",
       "      <td>2</td>\n",
       "    </tr>\n",
       "    <tr>\n",
       "      <th>4</th>\n",
       "      <td>4</td>\n",
       "    </tr>\n",
       "  </tbody>\n",
       "</table>\n",
       "</div>"
      ],
      "text/plain": [
       "   class\n",
       "0      4\n",
       "1      4\n",
       "2      4\n",
       "3      2\n",
       "4      4"
      ]
     },
     "execution_count": 2,
     "metadata": {},
     "output_type": "execute_result"
    }
   ],
   "source": [
    "i = [round(float(f)) for f in classes.columns]\n",
    "classes = pd.DataFrame(np.asarray(i).transpose())\n",
    "classes.columns = ['class']\n",
    "classes.head()"
   ]
  },
  {
   "cell_type": "code",
   "execution_count": 3,
   "metadata": {},
   "outputs": [
    {
     "data": {
      "text/html": [
       "<div>\n",
       "<style scoped>\n",
       "    .dataframe tbody tr th:only-of-type {\n",
       "        vertical-align: middle;\n",
       "    }\n",
       "\n",
       "    .dataframe tbody tr th {\n",
       "        vertical-align: top;\n",
       "    }\n",
       "\n",
       "    .dataframe thead th {\n",
       "        text-align: right;\n",
       "    }\n",
       "</style>\n",
       "<table border=\"1\" class=\"dataframe\">\n",
       "  <thead>\n",
       "    <tr style=\"text-align: right;\">\n",
       "      <th></th>\n",
       "      <th>time</th>\n",
       "      <th>class</th>\n",
       "    </tr>\n",
       "  </thead>\n",
       "  <tbody>\n",
       "    <tr>\n",
       "      <th>0</th>\n",
       "      <td>10320</td>\n",
       "      <td>4</td>\n",
       "    </tr>\n",
       "    <tr>\n",
       "      <th>1</th>\n",
       "      <td>24753</td>\n",
       "      <td>4</td>\n",
       "    </tr>\n",
       "    <tr>\n",
       "      <th>2</th>\n",
       "      <td>36050</td>\n",
       "      <td>4</td>\n",
       "    </tr>\n",
       "    <tr>\n",
       "      <th>3</th>\n",
       "      <td>42119</td>\n",
       "      <td>2</td>\n",
       "    </tr>\n",
       "    <tr>\n",
       "      <th>4</th>\n",
       "      <td>43124</td>\n",
       "      <td>4</td>\n",
       "    </tr>\n",
       "  </tbody>\n",
       "</table>\n",
       "</div>"
      ],
      "text/plain": [
       "    time  class\n",
       "0  10320      4\n",
       "1  24753      4\n",
       "2  36050      4\n",
       "3  42119      2\n",
       "4  43124      4"
      ]
     },
     "execution_count": 3,
     "metadata": {},
     "output_type": "execute_result"
    }
   ],
   "source": [
    "time = pd.DataFrame(np.asarray(time.columns).transpose())\n",
    "time.columns = ['time']\n",
    "time['class'] = classes['class'].values\n",
    "time.head()"
   ]
  },
  {
   "cell_type": "code",
   "execution_count": 4,
   "metadata": {},
   "outputs": [],
   "source": [
    "raw = pd.read_excel('C:/Users/etudiant/Downloads/spike_data/labeld_data/f1.xlsx')\n",
    "raw2 = pd.read_excel('C:/Users/etudiant/Downloads/spike_data/labeld_data/f2.xlsx')\n",
    "raw3 = pd.read_excel('C:/Users/etudiant/Downloads/spike_data/labeld_data/f3.xlsx')\n",
    "raw4 = pd.read_excel('C:/Users/etudiant/Downloads/spike_data/labeld_data/f4.xlsx')\n",
    "raw5 = pd.read_excel('C:/Users/etudiant/Downloads/spike_data/labeld_data/f5.xlsx')\n",
    "raw6 = pd.read_excel('C:/Users/etudiant/Downloads/spike_data/labeld_data/f6.xlsx')\n",
    "raw7 = pd.read_excel('C:/Users/etudiant/Downloads/spike_data/labeld_data/f7.xlsx')\n",
    "raw8 = pd.read_excel('C:/Users/etudiant/Downloads/spike_data/labeld_data/f8.xlsx')\n",
    "raw9 = pd.read_excel('C:/Users/etudiant/Downloads/spike_data/labeld_data/f9.xlsx')\n",
    "raw10 = pd.read_excel('C:/Users/etudiant/Downloads/spike_data/labeld_data/f10.xlsx')\n",
    "raw11 = pd.read_excel('C:/Users/etudiant/Downloads/spike_data/labeld_data/f11.xlsx')\n",
    "raw12 = pd.read_excel('C:/Users/etudiant/Downloads/spike_data/labeld_data/f12.xlsx')"
   ]
  },
  {
   "cell_type": "code",
   "execution_count": 5,
   "metadata": {},
   "outputs": [],
   "source": [
    "raw['class'] = 0\n",
    "raw2['class'] = 0\n",
    "raw3['class'] = 0\n",
    "raw4['class'] = 0\n",
    "raw5['class'] = 0\n",
    "raw6['class'] = 0\n",
    "raw7['class'] = 0\n",
    "raw8['class'] = 0\n",
    "raw9['class'] = 0\n",
    "raw10['class'] = 0\n",
    "raw11['class'] = 0\n",
    "raw12['class'] = 0"
   ]
  },
  {
   "cell_type": "code",
   "execution_count": 6,
   "metadata": {},
   "outputs": [],
   "source": [
    "r = pd.concat([raw,raw2,raw3,raw4,raw5,raw6,raw7,raw8,raw9,raw10,raw11,raw12], ignore_index=True)"
   ]
  },
  {
   "cell_type": "code",
   "execution_count": 7,
   "metadata": {},
   "outputs": [],
   "source": [
    "for i in time.index:\n",
    "    j = time.loc[i]['time']\n",
    "    if([char for char in j].count('.') >= 2):\n",
    "        j = j.rsplit('.',1)[0]\n",
    "    r.loc[float(j),'class'] = time.loc[i]['class']"
   ]
  },
  {
   "cell_type": "code",
   "execution_count": 12,
   "metadata": {},
   "outputs": [
    {
     "name": "stdout",
     "output_type": "stream",
     "text": [
      "4\n"
     ]
    }
   ],
   "source": [
    "print(r.loc[43124,'class'])"
   ]
  },
  {
   "cell_type": "code",
   "execution_count": 13,
   "metadata": {},
   "outputs": [
    {
     "data": {
      "text/plain": [
       "array([0, 4, 2, 3, 5, 1, 6], dtype=int64)"
      ]
     },
     "execution_count": 13,
     "metadata": {},
     "output_type": "execute_result"
    }
   ],
   "source": [
    "r['class'].unique()"
   ]
  },
  {
   "cell_type": "code",
   "execution_count": 14,
   "metadata": {},
   "outputs": [
    {
     "data": {
      "text/html": [
       "<div>\n",
       "<style scoped>\n",
       "    .dataframe tbody tr th:only-of-type {\n",
       "        vertical-align: middle;\n",
       "    }\n",
       "\n",
       "    .dataframe tbody tr th {\n",
       "        vertical-align: top;\n",
       "    }\n",
       "\n",
       "    .dataframe thead th {\n",
       "        text-align: right;\n",
       "    }\n",
       "</style>\n",
       "<table border=\"1\" class=\"dataframe\">\n",
       "  <thead>\n",
       "    <tr style=\"text-align: right;\">\n",
       "      <th></th>\n",
       "      <th>A</th>\n",
       "      <th>class</th>\n",
       "    </tr>\n",
       "  </thead>\n",
       "  <tbody>\n",
       "    <tr>\n",
       "      <th>815230</th>\n",
       "      <td>62.626376</td>\n",
       "      <td>6</td>\n",
       "    </tr>\n",
       "    <tr>\n",
       "      <th>899640</th>\n",
       "      <td>-17.042466</td>\n",
       "      <td>6</td>\n",
       "    </tr>\n",
       "    <tr>\n",
       "      <th>966340</th>\n",
       "      <td>30.946391</td>\n",
       "      <td>6</td>\n",
       "    </tr>\n",
       "    <tr>\n",
       "      <th>968070</th>\n",
       "      <td>-85.360690</td>\n",
       "      <td>6</td>\n",
       "    </tr>\n",
       "    <tr>\n",
       "      <th>1035200</th>\n",
       "      <td>11.138852</td>\n",
       "      <td>6</td>\n",
       "    </tr>\n",
       "  </tbody>\n",
       "</table>\n",
       "</div>"
      ],
      "text/plain": [
       "                 A  class\n",
       "815230   62.626376      6\n",
       "899640  -17.042466      6\n",
       "966340   30.946391      6\n",
       "968070  -85.360690      6\n",
       "1035200  11.138852      6"
      ]
     },
     "execution_count": 14,
     "metadata": {},
     "output_type": "execute_result"
    }
   ],
   "source": [
    "r.loc[r['class'] == 6 ].head()"
   ]
  },
  {
   "cell_type": "code",
   "execution_count": null,
   "metadata": {},
   "outputs": [],
   "source": []
  },
  {
   "cell_type": "code",
   "execution_count": 16,
   "metadata": {},
   "outputs": [],
   "source": [
    "#CNN"
   ]
  },
  {
   "cell_type": "code",
   "execution_count": 24,
   "metadata": {},
   "outputs": [
    {
     "name": "stdout",
     "output_type": "stream",
     "text": [
      "Train on 6708179 samples, validate on 3304029 samples\n",
      "Epoch 1/20\n",
      "6708179/6708179 [==============================] - 5s 1us/step - loss: 2.5335 - accuracy: 0.5597 - val_loss: 0.1221 - val_accuracy: 0.9999\n",
      "Epoch 2/20\n",
      "6708179/6708179 [==============================] - 4s 1us/step - loss: 0.0851 - accuracy: 0.9999 - val_loss: 0.0630 - val_accuracy: 0.9999\n",
      "Epoch 3/20\n",
      "6708179/6708179 [==============================] - 4s 1us/step - loss: 0.0518 - accuracy: 0.9999 - val_loss: 0.0430 - val_accuracy: 0.9999\n",
      "Epoch 4/20\n",
      "6708179/6708179 [==============================] - 4s 1us/step - loss: 0.0371 - accuracy: 0.9999 - val_loss: 0.0321 - val_accuracy: 0.9999\n",
      "Epoch 5/20\n",
      "6708179/6708179 [==============================] - 4s 1us/step - loss: 0.0284 - accuracy: 0.9999 - val_loss: 0.0253 - val_accuracy: 0.9999\n",
      "Epoch 6/20\n",
      "6708179/6708179 [==============================] - 5s 1us/step - loss: 0.0229 - accuracy: 0.9999 - val_loss: 0.0207 - val_accuracy: 0.9999\n",
      "Epoch 7/20\n",
      "6708179/6708179 [==============================] - 5s 1us/step - loss: 0.0191 - accuracy: 0.9999 - val_loss: 0.0176 - val_accuracy: 0.9999\n",
      "Epoch 8/20\n",
      "6708179/6708179 [==============================] - 5s 1us/step - loss: 0.0165 - accuracy: 0.9999 - val_loss: 0.0154 - val_accuracy: 0.9999\n",
      "Epoch 9/20\n",
      "6708179/6708179 [==============================] - 5s 1us/step - loss: 0.0146 - accuracy: 0.9999 - val_loss: 0.0138 - val_accuracy: 0.9999\n",
      "Epoch 10/20\n",
      "6708179/6708179 [==============================] - 5s 1us/step - loss: 0.0133 - accuracy: 0.9999 - val_loss: 0.0127 - val_accuracy: 0.9999\n",
      "Epoch 11/20\n",
      "6708179/6708179 [==============================] - 4s 1us/step - loss: 0.0123 - accuracy: 0.9999 - val_loss: 0.0118 - val_accuracy: 0.9999\n",
      "Epoch 12/20\n",
      "6708179/6708179 [==============================] - 4s 1us/step - loss: 0.0115 - accuracy: 0.9999 - val_loss: 0.0112 - val_accuracy: 0.9999\n",
      "Epoch 13/20\n",
      "6708179/6708179 [==============================] - 4s 1us/step - loss: 0.0109 - accuracy: 0.9999 - val_loss: 0.0106 - val_accuracy: 0.9999\n",
      "Epoch 14/20\n",
      "6708179/6708179 [==============================] - 4s 1us/step - loss: 0.0103 - accuracy: 0.9999 - val_loss: 0.0101 - val_accuracy: 0.9999\n",
      "Epoch 15/20\n",
      "6708179/6708179 [==============================] - 5s 1us/step - loss: 0.0099 - accuracy: 0.9999 - val_loss: 0.0096 - val_accuracy: 0.9999\n",
      "Epoch 16/20\n",
      "6708179/6708179 [==============================] - 5s 1us/step - loss: 0.0094 - accuracy: 0.9999 - val_loss: 0.0092 - val_accuracy: 0.9999\n",
      "Epoch 17/20\n",
      "6708179/6708179 [==============================] - 4s 1us/step - loss: 0.0090 - accuracy: 0.9999 - val_loss: 0.0088 - val_accuracy: 0.9999\n",
      "Epoch 18/20\n",
      "6708179/6708179 [==============================] - 5s 1us/step - loss: 0.0085 - accuracy: 0.9999 - val_loss: 0.0084 - val_accuracy: 0.9999\n",
      "Epoch 19/20\n",
      "6708179/6708179 [==============================] - 5s 1us/step - loss: 0.0081 - accuracy: 0.9999 - val_loss: 0.0079 - val_accuracy: 0.9999\n",
      "Epoch 20/20\n",
      "6708179/6708179 [==============================] - 4s 1us/step - loss: 0.0076 - accuracy: 0.9999 - val_loss: 0.0075 - val_accuracy: 0.9999\n"
     ]
    }
   ],
   "source": [
    "from keras.models import Sequential\n",
    "from keras.layers import Dense\n",
    "\n",
    "#Load Data\n",
    "x = r['A']\n",
    "y = r['class']\n",
    "\n",
    "X, Y, y_train, y_test = train_test_split(x, y, test_size = 0.10)\n",
    "\n",
    "#define keras model\n",
    "model = Sequential()\n",
    "model.add(Dense(12, input_dim=1, activation='relu'))\n",
    "model.add(Dense(8, activation='relu'))\n",
    "model.add(Dense(1, activation='sigmoid'))\n",
    "\n",
    "#compile keras model\n",
    "model.compile(loss='binary_crossentropy', optimizer='adam', metrics=['accuracy'])\n",
    "\n",
    "\n",
    "# fit the keras model on the dataset\n",
    "history = model.fit(X, y_train, validation_split=0.33,epochs=20, batch_size=30000)\n"
   ]
  },
  {
   "cell_type": "code",
   "execution_count": 25,
   "metadata": {},
   "outputs": [
    {
     "name": "stdout",
     "output_type": "stream",
     "text": [
      "dict_keys(['val_loss', 'val_accuracy', 'loss', 'accuracy'])\n"
     ]
    },
    {
     "data": {
      "image/png": "[encoded data removed]",
      "text/plain": [
       "<Figure size 432x288 with 1 Axes>"
      ]
     },
     "metadata": {
      "needs_background": "light"
     },
     "output_type": "display_data"
    },
    {
     "data": {
      "image/png": "[encoded data removed]",
      "text/plain": [
       "<Figure size 432x288 with 1 Axes>"
      ]
     },
     "metadata": {
      "needs_background": "light"
     },
     "output_type": "display_data"
    }
   ],
   "source": [
    "from matplotlib import pyplot as plt\n",
    "# list all data in history\n",
    "print(history.history.keys())\n",
    "# summarize history for accuracy\n",
    "plt.plot(history.history['accuracy'])\n",
    "plt.plot(history.history['val_accuracy'])\n",
    "plt.title('model accuracy')\n",
    "plt.ylabel('accuracy')\n",
    "plt.xlabel('epoch')\n",
    "plt.legend(['train', 'test'], loc='upper left')\n",
    "plt.show()\n",
    "# summarize history for loss\n",
    "plt.plot(history.history['loss'])\n",
    "plt.plot(history.history['val_loss'])\n",
    "plt.title('model loss')\n",
    "plt.ylabel('loss')\n",
    "plt.xlabel('epoch')\n",
    "plt.legend(['train', 'test'], loc='upper left')\n",
    "plt.show()"
   ]
  },
  {
   "cell_type": "code",
   "execution_count": 26,
   "metadata": {},
   "outputs": [
    {
     "name": "stdout",
     "output_type": "stream",
     "text": [
      "10012208/10012208 [==============================] - 85s 8us/step\n",
      "Accuracy: 99.99\n"
     ]
    }
   ],
   "source": [
    "# evaluate the keras model\n",
    "_, accuracy = model.evaluate(X, y_train)\n",
    "print('Accuracy: %.2f' % (accuracy*100))\n",
    "# make probability predictions with the model\n",
    "predictions = model.predict(Y)\n",
    "# round predictions \n",
    "rounded = [round(x[0]) for x in predictions]\n",
    "\n",
    "# make class predictions with the model\n",
    "predictions = model.predict_classes(Y)\n"
   ]
  },
  {
   "cell_type": "code",
   "execution_count": 28,
   "metadata": {},
   "outputs": [
    {
     "name": "stdout",
     "output_type": "stream",
     "text": [
      "0.9998777492925639\n"
     ]
    }
   ],
   "source": [
    "from sklearn.metrics import accuracy_score\n",
    "print(accuracy_score(y_test,predictions))"
   ]
  },
  {
   "cell_type": "code",
   "execution_count": null,
   "metadata": {},
   "outputs": [],
   "source": []
  }
 ],
 "metadata": {
  "kernelspec": {
   "display_name": "Python 3",
   "language": "python",
   "name": "python3"
  },
  "language_info": {
   "codemirror_mode": {
    "name": "ipython",
    "version": 3
   },
   "file_extension": ".py",
   "mimetype": "text/x-python",
   "name": "python",
   "nbconvert_exporter": "python",
   "pygments_lexer": "ipython3",
   "version": "3.7.6"
  }
 },
 "nbformat": 4,
 "nbformat_minor": 2
}
